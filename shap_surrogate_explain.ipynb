{
 "cells": [
  {
   "metadata": {},
   "cell_type": "markdown",
   "source": [
    "# ------------------------------------------------------------\n",
    "# Explains CATE predictions from a CausalForestDML using a fast tree surrogate (GradientBoostingRegressor) + SHAP.\n",
    "# ------------------------------------------------------------"
   ],
   "id": "ca9d620ddb21ae62"
  },
  {
   "metadata": {
    "ExecuteTime": {
     "end_time": "2025-10-28T13:03:12.207458Z",
     "start_time": "2025-10-28T13:03:08.305818Z"
    }
   },
   "cell_type": "code",
   "source": [
    "import joblib\n",
    "import numpy as np\n",
    "import pandas as pd\n",
    "import shap\n",
    "from sklearn.ensemble import GradientBoostingRegressor\n",
    "import matplotlib.pyplot as plt\n",
    "import os"
   ],
   "id": "447b5bf928b2d041",
   "outputs": [],
   "execution_count": 1
  },
  {
   "cell_type": "code",
   "id": "initial_id",
   "metadata": {
    "collapsed": true,
    "ExecuteTime": {
     "end_time": "2025-10-28T13:03:17.252618Z",
     "start_time": "2025-10-28T13:03:12.256602Z"
    }
   },
   "source": [
    "# 1) Load model and test data\n",
    "model = joblib.load(\"model/causal_forest_dml_model.pkl\")\n",
    "test = pd.read_csv(\"data/test_data.csv\")\n",
    "\n",
    "# 2) Split to features X (same columns used in training), outcome Y, treatment T\n",
    "X_cols = [c for c in test.columns if c not in (\"Y\", \"T\")]\n",
    "X_test = test[X_cols].copy()\n",
    "\n",
    "# 3) Get CATE predictions from the fitted causal forest (target for surrogate)\n",
    "cate_pred = model.effect(X_test.values).squeeze()\n",
    "\n",
    "# 4) Fit a tree surrogate to learn f_surrogate(X) ~ cate_pred\n",
    "surrogate = GradientBoostingRegressor(random_state=0)\n",
    "surrogate.fit(X_test, cate_pred)\n",
    "\n",
    "# 5) SHAP on the surrogate\n",
    "explainer = shap.TreeExplainer(surrogate)\n",
    "shap_values = explainer.shap_values(X_test)\n",
    "\n",
    "# 6) Summary plots\n",
    "os.makedirs(\"plots\", exist_ok=True)\n",
    "\n",
    "plt.figure()\n",
    "shap.summary_plot(shap_values, X_test, feature_names=X_cols, show=False)\n",
    "plt.tight_layout()\n",
    "plt.savefig(\"plots/shap_summary_beeswarm_surrogate.png\", dpi=160)\n",
    "plt.close()\n",
    "\n",
    "plt.figure()\n",
    "shap.summary_plot(shap_values, X_test, feature_names=X_cols, plot_type=\"bar\", show=False)\n",
    "plt.tight_layout()\n",
    "plt.savefig(\"plots/shap_summary_bar_surrogate.png\", dpi=160)\n",
    "plt.close()\n",
    "\n",
    "# 7) dependence plot for a top feature\n",
    "top_feature = X_cols[np.argsort(np.abs(shap_values).mean(0))[::-1][0]]\n",
    "plt.figure()\n",
    "shap.dependence_plot(top_feature, shap_values, X_test, show=False)\n",
    "plt.tight_layout()\n",
    "plt.savefig(f\"plots/shap_dependence_{top_feature}.png\", dpi=160)\n",
    "plt.close()\n",
    "\n",
    "print(\"Saved SHAP plots:\\n - plots/shap_summary_beeswarm_surrogate.png\\n - plots/shap_summary_bar_surrogate.png\\n - plots/shap_dependence_<top_feature>.png\")\n"
   ],
   "outputs": [
    {
     "name": "stdout",
     "output_type": "stream",
     "text": [
      "Saved SHAP plots:\n",
      " - plots/shap_summary_beeswarm_surrogate.png\n",
      " - plots/shap_summary_bar_surrogate.png\n",
      " - plots/shap_dependence_<top_feature>.png\n"
     ]
    },
    {
     "data": {
      "text/plain": [
       "<Figure size 640x480 with 0 Axes>"
      ]
     },
     "metadata": {},
     "output_type": "display_data",
     "jetTransient": {
      "display_id": null
     }
    }
   ],
   "execution_count": 3
  }
 ],
 "metadata": {
  "kernelspec": {
   "display_name": "Python 3",
   "language": "python",
   "name": "python3"
  },
  "language_info": {
   "codemirror_mode": {
    "name": "ipython",
    "version": 2
   },
   "file_extension": ".py",
   "mimetype": "text/x-python",
   "name": "python",
   "nbconvert_exporter": "python",
   "pygments_lexer": "ipython2",
   "version": "2.7.6"
  }
 },
 "nbformat": 4,
 "nbformat_minor": 5
}
