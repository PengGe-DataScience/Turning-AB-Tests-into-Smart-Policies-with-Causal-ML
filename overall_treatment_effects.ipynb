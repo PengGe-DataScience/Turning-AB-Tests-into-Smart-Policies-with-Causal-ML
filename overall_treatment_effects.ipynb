{
 "cells": [
  {
   "metadata": {},
   "cell_type": "markdown",
   "source": [
    "# ------------------------------------------------------------\n",
    "# Goal:\n",
    "#   - Estimate the overall (train + test) treatment effect (ATE) using simple difference-in-means.\n",
    "#   - Report ATE, standard error, and 95% confidence interval.\n",
    "#   - Plot a Figure-2–style bar chart (as in the paper) showing control vs treatment means.\n",
    "#\n",
    "# If Y is continuous (e.g., revenue or sales amount):\n",
    "#   - The same code works automatically; variances and SEs are computed using the sample variance of Y.\n",
    "#   - The interpretation of ATE changes:\n",
    "#       -> it becomes an average difference in Y units, not in probabilities.\n",
    "# ------------------------------------------------------------"
   ],
   "id": "ff2dc584ba8e8c0f"
  },
  {
   "cell_type": "code",
   "id": "initial_id",
   "metadata": {
    "collapsed": true,
    "ExecuteTime": {
     "end_time": "2025-10-28T11:45:48.069645Z",
     "start_time": "2025-10-28T11:45:48.063693Z"
    }
   },
   "source": [
    "import os\n",
    "import numpy as np\n",
    "import pandas as pd\n",
    "import matplotlib.pyplot as plt"
   ],
   "outputs": [],
   "execution_count": 2
  },
  {
   "metadata": {
    "ExecuteTime": {
     "end_time": "2025-10-28T11:45:48.110816Z",
     "start_time": "2025-10-28T11:45:48.105498Z"
    }
   },
   "cell_type": "code",
   "source": [
    "# 95% normal quantile for CI computation\n",
    "Z_95 = 1.96\n",
    "\n",
    "def diff_in_means_se_ci(y, t, z=Z_95):\n",
    "    \"\"\"\n",
    "    Compute difference-in-means ATE (treated - control), its SE, and CI.\n",
    "    Works for both binary and continuous outcomes.\n",
    "\n",
    "    Parameters\n",
    "    ----------\n",
    "    y : array-like\n",
    "        Outcome variable (binary 0/1 or continuous values)\n",
    "    t : array-like\n",
    "        Treatment indicator (1 = treated, 0 = control)\n",
    "    z : float\n",
    "        z-score for confidence interval (1.96 = 95% CI)\n",
    "\n",
    "    Returns\n",
    "    -------\n",
    "    ate : float\n",
    "        Average treatment effect (mean(T=1) - mean(T=0))\n",
    "    se_ate : float\n",
    "        Standard error of the ATE\n",
    "    ci : tuple\n",
    "        (lower_bound, upper_bound) of the CI\n",
    "    stats : dict\n",
    "        Sample sizes, group means, and variances for diagnostics\n",
    "    \"\"\"\n",
    "\n",
    "    # Ensure NumPy arrays and correct types\n",
    "    y = np.asarray(y)\n",
    "    t = np.asarray(t).astype(int)\n",
    "\n",
    "    # Separate treated and control samples\n",
    "    y1 = y[t == 1]\n",
    "    y0 = y[t == 0]\n",
    "    n1, n0 = len(y1), len(y0)\n",
    "\n",
    "    if n1 == 0 or n0 == 0:\n",
    "        raise ValueError(\"Need both treated and control observations to estimate ATE.\")\n",
    "\n",
    "    # Compute sample means\n",
    "    m1, m0 = y1.mean(), y0.mean()\n",
    "\n",
    "    # Compute unbiased sample variances\n",
    "    v1, v0 = y1.var(ddof=1), y0.var(ddof=1)\n",
    "\n",
    "    # Difference in means = simple ATE under random assignment\n",
    "    ate = m1 - m0\n",
    "\n",
    "    # Standard error of difference in means\n",
    "    # Var(diff) = Var(Y1)/n1 + Var(Y0)/n0 (since groups are independent)\n",
    "    se_ate = np.sqrt(v1 / n1 + v0 / n0)\n",
    "\n",
    "    # 95% confidence interval using normal approximation\n",
    "    ci_lo, ci_hi = ate - z * se_ate, ate + z * se_ate\n",
    "\n",
    "    stats = dict(\n",
    "        n_treat=n1,\n",
    "        n_control=n0,\n",
    "        mean_treat=m1,\n",
    "        mean_control=m0,\n",
    "        var_treat=v1,\n",
    "        var_control=v0\n",
    "    )\n",
    "\n",
    "    return ate, se_ate, (ci_lo, ci_hi), stats\n"
   ],
   "id": "e91ed58b2fc9336d",
   "outputs": [],
   "execution_count": 4
  },
  {
   "metadata": {
    "ExecuteTime": {
     "end_time": "2025-10-28T11:45:48.133798Z",
     "start_time": "2025-10-28T11:45:48.129686Z"
    }
   },
   "cell_type": "code",
   "source": [
    "def mean_and_se(y):\n",
    "    \"\"\"\n",
    "    Compute the mean and standard error of a sample.\n",
    "\n",
    "    If Y is binary, this equals sqrt(p*(1-p)/n);\n",
    "    if Y is continuous, it uses sample variance / n.\n",
    "\n",
    "    Returns\n",
    "    -------\n",
    "    mean : float\n",
    "    se : float\n",
    "    \"\"\"\n",
    "    y = np.asarray(y)\n",
    "    mean = y.mean()\n",
    "    var = y.var(ddof=1)\n",
    "    se = np.sqrt(var / len(y))\n",
    "    return mean, se\n"
   ],
   "id": "9e76897a4df0e3e8",
   "outputs": [],
   "execution_count": 5
  },
  {
   "metadata": {
    "ExecuteTime": {
     "end_time": "2025-10-28T11:45:48.584685Z",
     "start_time": "2025-10-28T11:45:48.137873Z"
    }
   },
   "cell_type": "code",
   "source": [
    "if __name__ == \"__main__\":\n",
    "\n",
    "    # === 1. Load training and test data, and combine them ===\n",
    "    train = pd.read_csv(\"data/train_data.csv\")\n",
    "    test = pd.read_csv(\"data/test_data.csv\")\n",
    "\n",
    "    # Only keep treatment and outcome columns for this analysis\n",
    "    required_cols = {\"T\", \"Y\"}\n",
    "    if not required_cols.issubset(train.columns) or not required_cols.issubset(test.columns):\n",
    "        raise ValueError(\"Expected columns 'T' and 'Y' in both train and test data.\")\n",
    "\n",
    "    # Combine train and test samples into one dataset\n",
    "    df = pd.concat([train[[\"T\", \"Y\"]], test[[\"T\", \"Y\"]]], ignore_index=True)\n",
    "\n",
    "    # === 2. Estimate overall treatment effect (ATE) ===\n",
    "    ate, se_ate, (ci_lo, ci_hi), stats = diff_in_means_se_ci(df[\"Y\"], df[\"T\"])\n",
    "\n",
    "    print(\"\\n=== Overall (Train + Test) ===\")\n",
    "    print(f\"n_control = {stats['n_control']}, n_treat = {stats['n_treat']}\")\n",
    "    print(f\"Mean(Control)  = {stats['mean_control']:.4f}\")\n",
    "    print(f\"Mean(Treatment)= {stats['mean_treat']:.4f}\")\n",
    "    print(f\"ATE (T - C)    = {ate:.4f}\")\n",
    "    print(f\"SE(ATE)        = {se_ate:.4f}\")\n",
    "    print(f\"95% CI         = [{ci_lo:.4f}, {ci_hi:.4f}]\")\n",
    "\n",
    "    # === 3. Prepare group means and SEs for visualization ===\n",
    "\n",
    "    # Make sure T is a flat 1-D Series, not a DataFrame\n",
    "    df[\"T\"] = np.ravel(df[\"T\"])\n",
    "\n",
    "    # Now the boolean masks will be 1-D\n",
    "    y1 = df.loc[df[\"T\"] == 1, \"Y\"].to_numpy()\n",
    "    y0 = df.loc[df[\"T\"] == 0, \"Y\"].to_numpy()\n",
    "\n",
    "    m0, se0 = mean_and_se(y0)\n",
    "    m1, se1 = mean_and_se(y1)\n",
    "\n",
    "\n",
    "    # === 4. Plot Figure-2–style bar chart ===\n",
    "    os.makedirs(\"plots\", exist_ok=True)\n",
    "\n",
    "    fig, ax = plt.subplots(figsize=(6, 4))\n",
    "\n",
    "    groups = [\"Control\", \"Treatment\"]\n",
    "    means = [m0, m1]\n",
    "    # 95% CI for each group mean = mean ± 1.96 * SE\n",
    "    cis = [Z_95 * se0, Z_95 * se1]\n",
    "\n",
    "    # Draw bars with error bars (capsize for horizontal lines)\n",
    "    ax.bar(groups, means, yerr=cis, capsize=6)\n",
    "\n",
    "    # Labeling\n",
    "    ax.set_ylabel(\"Mean outcome (Y)\")\n",
    "    ax.set_title(\"Overall Means with 95% CI — Combined\")\n",
    "\n",
    "    # Fix Y-axis range to focus on a realistic outcome window\n",
    "    ax.set_ylim(0.28, 0.31)\n",
    "\n",
    "    # Add light horizontal grid lines for readability\n",
    "    ax.grid(True, axis=\"y\", linestyle=\"--\", alpha=0.5)\n",
    "\n",
    "    plt.tight_layout()\n",
    "\n",
    "    # Save figure\n",
    "    outpath = \"plots/figure2_overall_ate_combined_explained.png\"\n",
    "    plt.savefig(outpath, dpi=160)\n",
    "    plt.close(fig)\n",
    "\n",
    "    print(f\"Saved plot → {outpath}\")\n"
   ],
   "id": "545ae37501193d47",
   "outputs": [
    {
     "name": "stdout",
     "output_type": "stream",
     "text": [
      "\n",
      "=== Overall (Train + Test) ===\n",
      "n_control = 24850, n_treat = 25150\n",
      "Mean(Control)  = 0.3019\n",
      "Mean(Treatment)= 0.2934\n",
      "ATE (T - C)    = -0.0085\n",
      "SE(ATE)        = 0.0041\n",
      "95% CI         = [-0.0165, -0.0005]\n",
      "Saved plot → plots/figure2_overall_ate_combined_explained.png\n"
     ]
    }
   ],
   "execution_count": 6
  }
 ],
 "metadata": {
  "kernelspec": {
   "display_name": "Python 3",
   "language": "python",
   "name": "python3"
  },
  "language_info": {
   "codemirror_mode": {
    "name": "ipython",
    "version": 2
   },
   "file_extension": ".py",
   "mimetype": "text/x-python",
   "name": "python",
   "nbconvert_exporter": "python",
   "pygments_lexer": "ipython2",
   "version": "2.7.6"
  }
 },
 "nbformat": 4,
 "nbformat_minor": 5
}
